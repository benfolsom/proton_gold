{
 "cells": [
  {
   "cell_type": "code",
   "execution_count": 35,
   "metadata": {},
   "outputs": [
    {
     "name": "stdout",
     "output_type": "stream",
     "text": [
      "Second row values: [ 1.61042343  2.29635147  2.98247723  3.66886273  4.35505128  5.04094729\n",
      "  5.72713062  6.41338523  7.09957915  7.78562623  8.47174365  9.15780874\n",
      "  9.84399674 10.53003061 11.21609968 11.90221738 12.58829472 13.27415768\n",
      " 13.9599528  14.64592503 15.3319043  16.01766833 16.70332762 17.38903357\n",
      " 18.07466015 18.76027159 19.4462004  20.1320049  20.81799305 21.50419414]\n",
      "Last row values: [ 1.61042301  2.2963469   2.98245341  3.6687779   4.35481191  5.04037058\n",
      "  5.72589172  6.41094676  7.0951001   7.77784749  8.45884678  9.13724695\n",
      "  9.81229264 10.48254343 11.14675064 11.80317885 12.44963873 13.08346252\n",
      " 13.70185288 14.30160812 14.87858027 15.42798008 15.9446812  16.4228742\n",
      " 16.85572499 17.23573701 17.55472708 17.80291522 17.97010826 18.04479815]\n"
     ]
    }
   ],
   "source": [
    "import os\n",
    "import numpy as np\n",
    "\n",
    "def extract_gamma_means(file_path):\n",
    "    \"\"\"Extract the gamma_mean values from the 2nd and last row of the given file.\"\"\"\n",
    "    with open(file_path, 'r') as file:\n",
    "        lines = file.readlines()\n",
    "    \n",
    "    second_row_gamma_mean = float(lines[1].split()[8])\n",
    "    last_row_gamma_mean = float(lines[-6].split()[8])\n",
    "    \n",
    "    return second_row_gamma_mean, last_row_gamma_mean\n",
    "\n",
    "def process_directories(base_path):\n",
    "    \"\"\"Process all 'gamXXX' directories in ascending order and extract the relevant gamma_mean values.\"\"\"\n",
    "    second_row_values = []\n",
    "    last_row_values = []\n",
    "    \n",
    "    # List all directories starting with 'gam' and extract their numeric part\n",
    "    directories = [dir for dir in os.listdir(base_path) if dir.startswith('gam') and dir[3:].isdigit()]\n",
    "    \n",
    "    # Sort directories by the numeric part (ascending order)\n",
    "    directories.sort(key=lambda x: int(x[3:]))\n",
    "    \n",
    "    # Process each directory\n",
    "    for directory in directories:\n",
    "        file_path = os.path.join(base_path, directory, 'BeamRelevant_beam2.txt')\n",
    "        if os.path.isfile(file_path):\n",
    "            second_row_gamma_mean, last_row_gamma_mean = extract_gamma_means(file_path)\n",
    "            second_row_values.append(second_row_gamma_mean)\n",
    "            last_row_values.append(last_row_gamma_mean)\n",
    "    \n",
    "    # Convert lists to numpy arrays\n",
    "    second_row_array = np.array(second_row_values)\n",
    "    last_row_array = np.array(last_row_values)\n",
    "    \n",
    "    return second_row_array, last_row_array\n",
    "\n",
    "# Example usage\n",
    "base_path = './saved_runs_alt_coord2_gammasqd0.25//'  # Replace with the path to the directory containing the 'gamXXX' directories\n",
    "second_row_array, last_row_array = process_directories(base_path)\n",
    "\n",
    "# Save arrays to files\n",
    "np.savetxt(os.path.join(base_path, 'second_row_values.txt'), second_row_array)\n",
    "np.savetxt(os.path.join(base_path, 'last_row_values.txt'), last_row_array)\n",
    "    \n",
    "print(\"Second row values:\", second_row_array)\n",
    "print(\"Last row values:\", last_row_array)\n"
   ]
  },
  {
   "cell_type": "code",
   "execution_count": 26,
   "metadata": {},
   "outputs": [
    {
     "data": {
      "text/plain": [
       "array([3.35671442e-04, 2.43887776e-03, 9.50495138e-03, 2.71858997e-02,\n",
       "       6.42315865e-02, 1.33207961e-01, 2.51249262e-01, 4.40779675e-01,\n",
       "       7.30265778e-01, 1.15495164e+00, 1.75763952e+00, 2.58932342e+00,\n",
       "       3.70999437e+00, 5.18907949e+00, 7.10635278e+00, 9.55227423e+00,\n",
       "       1.26283384e+01, 1.64471693e+01, 2.11326927e+01, 2.68191348e+01,\n",
       "       3.36471044e+01, 4.17566486e+01, 5.12689320e+01, 6.22278740e+01,\n",
       "       7.43733820e+01, 8.58764700e+01, 8.68042381e+01, 6.90964491e+01,\n",
       "       5.20967188e+01, 3.17784373e+01])"
      ]
     },
     "execution_count": 26,
     "metadata": {},
     "output_type": "execute_result"
    }
   ],
   "source": [
    "100*(second_row_array-last_row_array)/second_row_array"
   ]
  },
  {
   "cell_type": "code",
   "execution_count": 27,
   "metadata": {},
   "outputs": [
    {
     "data": {
      "text/plain": [
       "array([ 1.61042343,  2.29635147,  2.98247723,  3.66886273,  4.35505128,\n",
       "        5.04094729,  5.72713062,  6.41338523,  7.09957915,  7.78562623,\n",
       "        8.47174365,  9.15780874,  9.84399674, 10.53003061, 11.21609968,\n",
       "       11.90221738, 12.58829472, 13.27415768, 13.9599528 , 14.64592503,\n",
       "       15.3319043 , 16.01766833, 16.70332762, 17.38903357, 18.07466015,\n",
       "       18.76027159, 19.4462004 , 20.1320049 , 20.81799305, 21.50419414])"
      ]
     },
     "execution_count": 27,
     "metadata": {},
     "output_type": "execute_result"
    }
   ],
   "source": [
    "second_row_array"
   ]
  },
  {
   "cell_type": "code",
   "execution_count": 28,
   "metadata": {},
   "outputs": [
    {
     "data": {
      "text/plain": [
       "array([ 1.61041802,  2.29629546,  2.98219375,  3.66786532,  4.35225396,\n",
       "        5.03423235,  5.71274125,  6.38511633,  7.04773335,  7.69570601,\n",
       "        8.32284094,  8.92068345,  9.47878502,  9.98361895, 10.41904407,\n",
       "       10.76528494, 10.99860227, 11.09093449, 11.00983887, 10.71801466,\n",
       "       10.17316246,  9.32922685,  8.13970994,  6.56820767,  4.63192412,\n",
       "        2.64961259,  2.5660743 ,  6.22150439,  9.97250176, 14.67049728])"
      ]
     },
     "execution_count": 28,
     "metadata": {},
     "output_type": "execute_result"
    }
   ],
   "source": [
    "last_row_array"
   ]
  },
  {
   "cell_type": "code",
   "execution_count": null,
   "metadata": {},
   "outputs": [],
   "source": []
  },
  {
   "cell_type": "code",
   "execution_count": null,
   "metadata": {},
   "outputs": [],
   "source": []
  }
 ],
 "metadata": {
  "kernelspec": {
   "display_name": "Python 3",
   "language": "python",
   "name": "python3"
  },
  "language_info": {
   "codemirror_mode": {
    "name": "ipython",
    "version": 3
   },
   "file_extension": ".py",
   "mimetype": "text/x-python",
   "name": "python",
   "nbconvert_exporter": "python",
   "pygments_lexer": "ipython3",
   "version": "3.10.12"
  }
 },
 "nbformat": 4,
 "nbformat_minor": 2
}
